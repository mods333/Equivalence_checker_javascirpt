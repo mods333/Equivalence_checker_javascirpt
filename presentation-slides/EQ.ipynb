{
 "cells": [
  {
   "cell_type": "markdown",
   "metadata": {
    "slideshow": {
     "slide_type": "slide"
    }
   },
   "source": [
    "# Equivalence Checking for Prepack\n",
    "\n",
    "### By Ben and Suhail\n",
    "#### November 29, 2017"
   ]
  },
  {
   "cell_type": "markdown",
   "metadata": {
    "slideshow": {
     "slide_type": "slide"
    }
   },
   "source": [
    "# What is Prepack?\n",
    "\n",
    "Prepack is a tool developed by Facebook for \"making JavaScript code run faster\". \n",
    "<img src=\"img/prepack-github.png\" />"
   ]
  },
  {
   "cell_type": "markdown",
   "metadata": {
    "slideshow": {
     "slide_type": "subslide"
    }
   },
   "source": [
    "<img src=\"img/prepack-hello-world.png\" />"
   ]
  },
  {
   "cell_type": "markdown",
   "metadata": {
    "slideshow": {
     "slide_type": "subslide"
    }
   },
   "source": [
    "<img src=\"img/prepack-tax.png\" />"
   ]
  },
  {
   "cell_type": "markdown",
   "metadata": {
    "slideshow": {
     "slide_type": "slide"
    }
   },
   "source": [
    " \n",
    "# Python Z3-based Equivalence Checker"
   ]
  },
  {
   "cell_type": "markdown",
   "metadata": {
    "slideshow": {
     "slide_type": "fragment"
    }
   },
   "source": [
    "* SMT-based verifier implemented using Z3"
   ]
  },
  {
   "cell_type": "markdown",
   "metadata": {
    "slideshow": {
     "slide_type": "fragment"
    }
   },
   "source": [
    "* Assumes source code has a general form\n",
    "    * Finite set of global variables\n",
    "    * Sequence of operations that potentially modify state of global variables\n",
    "    * Ignore handling of tricky pointers/memory implementation"
   ]
  },
  {
   "cell_type": "markdown",
   "metadata": {
    "slideshow": {
     "slide_type": "subslide"
    }
   },
   "source": [
    " "
   ]
  },
  {
   "cell_type": "markdown",
   "metadata": {
    "slideshow": {
     "slide_type": "fragment"
    }
   },
   "source": [
    "### Supports only a subset of Javascript syntax"
   ]
  },
  {
   "cell_type": "markdown",
   "metadata": {
    "slideshow": {
     "slide_type": "fragment"
    }
   },
   "source": [
    "* Declarations: `var x`, `var y = 1`, and `function myFunc(x, y) { ... }`\n",
    "\n",
    "* Statements: `while (cond) { ... }` and `if ... [else if] ... [else]` \n",
    "\n",
    "* Expressions: Assignment, binary, unary, and function calls `x = -10 + myFunc(123)`"
   ]
  },
  {
   "cell_type": "markdown",
   "metadata": {
    "slideshow": {
     "slide_type": "slide"
    }
   },
   "source": [
    "# How does it work?"
   ]
  },
  {
   "cell_type": "markdown",
   "metadata": {
    "slideshow": {
     "slide_type": "subslide"
    }
   },
   "source": [
    "* Generate AST using `Esprima`"
   ]
  },
  {
   "cell_type": "markdown",
   "metadata": {
    "slideshow": {
     "slide_type": "fragment"
    }
   },
   "source": [
    "* Construct SMT by traversing AST in recursive manner\n",
    "\n",
    "* Bind the variable from both programs"
   ]
  },
  {
   "cell_type": "markdown",
   "metadata": {
    "slideshow": {
     "slide_type": "fragment"
    }
   },
   "source": [
    "* Pass ouput SMT to Z3\n",
    "\n",
    "* If unsat, then programs equivalent\n",
    "\n",
    "* Else, return mismatched variables"
   ]
  },
  {
   "cell_type": "markdown",
   "metadata": {
    "slideshow": {
     "slide_type": "subslide"
    }
   },
   "source": [
    "<img src=\"img/system.png\" />"
   ]
  },
  {
   "cell_type": "markdown",
   "metadata": {
    "slideshow": {
     "slide_type": "slide"
    }
   },
   "source": [
    "# Examples"
   ]
  },
  {
   "cell_type": "markdown",
   "metadata": {
    "slideshow": {
     "slide_type": "subslide"
    }
   },
   "source": [
    "```\n",
    "var x = 0;\n",
    "var y = 0;\n",
    "\n",
    "(function() {\n",
    "  y = 1;\n",
    "  var x = 1;\n",
    "  x = 2;\n",
    "})();\n",
    "```"
   ]
  },
  {
   "cell_type": "code",
   "execution_count": 8,
   "metadata": {
    "slideshow": {
     "slide_type": "subslide"
    }
   },
   "outputs": [
    {
     "name": "stdout",
     "output_type": "stream",
     "text": [
      "Parsing original program\n",
      "(x0_1==0)^(y0_1==0)^(And((And((y0_2==1),(x1_1==1))),(x1_2==2)))\n",
      "\n",
      "Parsing prepack output\n",
      "(ppx0_1==ppx0_1)^(ppx0_2==0)^(ppy0_1==ppy0_1)^(ppy0_2==0)^(ppy0_3==1)\n",
      "\n",
      "SMT Result: \n",
      "unsat\n",
      "\n"
     ]
    }
   ],
   "source": [
    "import subprocess\n",
    "output = subprocess.check_output(['python', '../verify-demo.py', '--verbose', '-f', '../trivial.js'])\n",
    "print (output.decode())"
   ]
  },
  {
   "cell_type": "markdown",
   "metadata": {
    "slideshow": {
     "slide_type": "subslide"
    }
   },
   "source": [
    "<img src=\"img/simple-if.png\" />\n",
    "<img src=\"img/if-smt.png\" />"
   ]
  },
  {
   "cell_type": "markdown",
   "metadata": {
    "slideshow": {
     "slide_type": "slide"
    }
   },
   "source": [
    "# Limitations\n",
    "\n",
    "* Does not handle recursion and complex loops with `break` and `continue` \n",
    "* Brute force nature of IC3 is inelegant"
   ]
  },
  {
   "cell_type": "markdown",
   "metadata": {
    "slideshow": {
     "slide_type": "fragment"
    }
   },
   "source": [
    "* Handle loops by unrolling, and iteratively doubling the unroll depth \n",
    "* Cannot handle infinite loops\n",
    "* Will hit a \"Parser stack overflow - Memory Error\""
   ]
  },
  {
   "cell_type": "markdown",
   "metadata": {
    "slideshow": {
     "slide_type": "fragment"
    }
   },
   "source": [
    "* Correctness depends on the `Esprima`\n",
    "* Checker can be buggy due to lack of refinement"
   ]
  },
  {
   "cell_type": "markdown",
   "metadata": {
    "slideshow": {
     "slide_type": "slide"
    }
   },
   "source": [
    "# Future Work\n",
    "\n",
    "* Checker code is spaghetti held together by bubble gum and coffee\n",
    "* More rigorous way of translating JavaScript into SMT for equivalence checking"
   ]
  },
  {
   "cell_type": "markdown",
   "metadata": {
    "slideshow": {
     "slide_type": "slide"
    }
   },
   "source": [
    "# Demo & Questions"
   ]
  }
 ],
 "metadata": {
  "celltoolbar": "Slideshow",
  "kernelspec": {
   "display_name": "Python 3",
   "language": "python",
   "name": "python3"
  },
  "language_info": {
   "codemirror_mode": {
    "name": "ipython",
    "version": 2
   },
   "file_extension": ".py",
   "mimetype": "text/x-python",
   "name": "python",
   "nbconvert_exporter": "python",
   "pygments_lexer": "ipython2",
   "version": "2.7.13"
  }
 },
 "nbformat": 4,
 "nbformat_minor": 2
}
