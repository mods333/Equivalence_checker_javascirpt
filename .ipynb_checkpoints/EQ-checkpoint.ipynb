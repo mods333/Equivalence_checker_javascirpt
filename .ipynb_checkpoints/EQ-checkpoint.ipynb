{
 "cells": [
  {
   "cell_type": "markdown",
   "metadata": {
    "slideshow": {
     "slide_type": "slide"
    }
   },
   "source": [
    "# Equivalence Checking for Prepack\n",
    "\n",
    "### By Ben and Suhail\n",
    "#### November 29, 2017"
   ]
  },
  {
   "cell_type": "markdown",
   "metadata": {
    "slideshow": {
     "slide_type": "slide"
    }
   },
   "source": [
    "\n",
    "# What is Prepack?\n",
    "\n",
    "Prepack is a tool developed by Facebook for \"making JavaScript code run faster\". \n",
    " \n",
    "> Prepack is a tool that optimizes JavaScript source code: Computations that can be done at compile-time instead of run-time get eliminated. Prepack replaces the global code of a JavaScript bundle with equivalent code that is a simple sequence of assignments. This gets rid of most intermediate computations and object allocations. \n"
   ]
  },
  {
   "cell_type": "markdown",
   "metadata": {
    "slideshow": {
     "slide_type": "slide"
    }
   },
   "source": [
    " \n",
    "# Python Z3-based Equivalence Checker"
   ]
  },
  {
   "cell_type": "markdown",
   "metadata": {
    "slideshow": {
     "slide_type": "fragment"
    }
   },
   "source": [
    "* SMT-based verfier implemented using Z3"
   ]
  },
  {
   "cell_type": "markdown",
   "metadata": {
    "slideshow": {
     "slide_type": "fragment"
    }
   },
   "source": [
    "* Assumes source code has a general form\n",
    "    * Finite set of global variables\n",
    "    * Sequence of operations that potentially modify state of global variables\n",
    "    * Ignore handling of tricky pointers/memory implementation"
   ]
  },
  {
   "cell_type": "markdown",
   "metadata": {
    "slideshow": {
     "slide_type": "subslide"
    }
   },
   "source": [
    " "
   ]
  },
  {
   "cell_type": "markdown",
   "metadata": {
    "slideshow": {
     "slide_type": "fragment"
    }
   },
   "source": [
    "* Supports only a subset of Javascript syntax"
   ]
  },
  {
   "cell_type": "markdown",
   "metadata": {
    "slideshow": {
     "slide_type": "fragment"
    }
   },
   "source": [
    "* Declarations: `var x`, `var y = 1`, and `function myFunc(x, y) { ... }`\n",
    "\n",
    "* Statements: `while (cond) { ... }` and `if ... [else if] ... [else]` \n",
    "\n",
    "* Expressions: Assignment, binary, unary, and function calls `x = -10 + myFunc(123)`"
   ]
  },
  {
   "cell_type": "markdown",
   "metadata": {
    "slideshow": {
     "slide_type": "slide"
    }
   },
   "source": [
    "# How does it work?"
   ]
  },
  {
   "cell_type": "markdown",
   "metadata": {
    "slideshow": {
     "slide_type": "fragment"
    }
   },
   "source": [
    "* Generate AST using `Esprima`"
   ]
  },
  {
   "cell_type": "markdown",
   "metadata": {
    "slideshow": {
     "slide_type": "fragment"
    }
   },
   "source": [
    "* Construct SMT by traversing AST in recursive manner\n",
    "\n",
    "* Bind the variable from both programs"
   ]
  },
  {
   "cell_type": "markdown",
   "metadata": {
    "slideshow": {
     "slide_type": "fragment"
    }
   },
   "source": [
    "* Pass ouput SMT to Z3\n",
    "\n",
    "* If unsat, then programs equivalent\n",
    "\n",
    "* Else, return mismatched variables"
   ]
  },
  {
   "cell_type": "markdown",
   "metadata": {
    "slideshow": {
     "slide_type": "subslide"
    }
   },
   "source": []
  },
  {
   "cell_type": "markdown",
   "metadata": {
    "slideshow": {
     "slide_type": "slide"
    }
   },
   "source": [
    "# Limitations\n",
    "\n",
    "As with most SMT-based equivalence checker, our implementation does not handle recursion and complex loops that involve `break` and `continue` statements.  We found the exhaustive natural of IC3 and similar techniques for handling loops inelegant.  Currently we can handle loops by unrolling, and iteratively double the unroll depth in case if we didn't unroll far enough.  Clearly, this approach cannot handle infinite loops -- Thankfully (or unfortunately) Python limits the stack for scopes very conservatively, so the checker will hit a \"Parser stack overflow - Memory Error\" relatively soon.  We can workaround this problem if we don't allow loops inside functions, i.e. loops can only happen in the global scope.\n",
    "\n",
    "The correctness of the checker depends on the correctness of `Esprima`.  In addition, since the analysis is static, we implemented our own checks for handling run-time errors such as referencing undefined variables.  Many of these checks can be buggy due to lack of refinement.\n"
   ]
  },
  {
   "cell_type": "markdown",
   "metadata": {
    "slideshow": {
     "slide_type": "slide"
    }
   },
   "source": [
    "# Future Work\n",
    "\n",
    "The entirety of checker code is spaghetti held together by bubble gum and coffee.  Up until now, we are mostly focused on getting the formal verification aspect to work -- In particular, given a piece of JavaScript code, how do we construct the SMT statement?  To make the code more extensible, we need to come up with more rigorous way of translating JavaScript into SMT for equivalence checking.\n"
   ]
  },
  {
   "cell_type": "code",
   "execution_count": null,
   "metadata": {
    "collapsed": true
   },
   "outputs": [],
   "source": []
  }
 ],
 "metadata": {
  "celltoolbar": "Slideshow",
  "kernelspec": {
   "display_name": "Python 3",
   "language": "python",
   "name": "python3"
  },
  "language_info": {
   "codemirror_mode": {
    "name": "ipython",
    "version": 2
   },
   "file_extension": ".py",
   "mimetype": "text/x-python",
   "name": "python",
   "nbconvert_exporter": "python",
   "pygments_lexer": "ipython2",
   "version": "2.7.13"
  }
 },
 "nbformat": 4,
 "nbformat_minor": 2
}
